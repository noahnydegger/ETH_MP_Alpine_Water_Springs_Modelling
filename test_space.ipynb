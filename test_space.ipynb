{
 "cells": [
  {
   "cell_type": "code",
   "execution_count": 8,
   "metadata": {
    "collapsed": true
   },
   "outputs": [
    {
     "name": "stdout",
     "output_type": "stream",
     "text": [
      "Paliu Fravi spring at Bonaduz\n"
     ]
    }
   ],
   "source": [
    "filename = 'Bonaduz.BS.Paliu_Fravi_discharge.csv'\n",
    "filename_split = filename.split('.')\n",
    "spring_name_split = filename_split[2].split('_')\n",
    "spring_description = '{} {} spring at {}'.format(spring_name_split[0], spring_name_split[1], filename_split[0])\n",
    "#file_split[2].split('_')[0]\n",
    "print(spring_description)"
   ]
  },
  {
   "cell_type": "code",
   "execution_count": 14,
   "outputs": [
    {
     "data": {
      "text/plain": "'Paliu Fravi'"
     },
     "execution_count": 14,
     "metadata": {},
     "output_type": "execute_result"
    }
   ],
   "source": [
    "file = 'Bonaduz.BS.Paliu_Fravi_discharge.csv'\n",
    "' '.join([file.split('.')[2].split('_')[i] for i in [0, 1]])\n",
    "#' '.join([file.split('.')[2].split('_') for i in [0,1]])"
   ],
   "metadata": {
    "collapsed": false
   }
  },
  {
   "cell_type": "code",
   "execution_count": 13,
   "outputs": [
    {
     "data": {
      "text/plain": "['Paliu', 'Fravi']"
     },
     "execution_count": 13,
     "metadata": {},
     "output_type": "execute_result"
    }
   ],
   "source": [
    "[file.split('.')[2].split('_')[i] for i in [0, 1]]"
   ],
   "metadata": {
    "collapsed": false
   }
  },
  {
   "cell_type": "code",
   "execution_count": 15,
   "outputs": [
    {
     "data": {
      "text/plain": "True"
     },
     "execution_count": 15,
     "metadata": {},
     "output_type": "execute_result"
    }
   ],
   "source": [
    "file.lower().endswith('.csv')"
   ],
   "metadata": {
    "collapsed": false
   }
  },
  {
   "cell_type": "code",
   "execution_count": 19,
   "outputs": [],
   "source": [
    "filename = 'Bonaduz.BS.Paliu_Fravi_discharge.csv'\n",
    "filename = 'Hergiswil.SS.Muesli_discharge.csv'"
   ],
   "metadata": {
    "collapsed": false
   }
  },
  {
   "cell_type": "code",
   "execution_count": 20,
   "outputs": [],
   "source": [
    "filename_split = filename.split('.')\n",
    "spring_name_split = filename_split[2].split('_')\n",
    "spring_name_split.remove('discharge')\n",
    "spring_description = '{} spring at {}'.format(' '.join([item for item in spring_name_split]), filename_split[0])"
   ],
   "metadata": {
    "collapsed": false
   }
  },
  {
   "cell_type": "code",
   "execution_count": 21,
   "outputs": [
    {
     "data": {
      "text/plain": "'Muesli spring at Hergiswil'"
     },
     "execution_count": 21,
     "metadata": {},
     "output_type": "execute_result"
    }
   ],
   "source": [
    "spring_description"
   ],
   "metadata": {
    "collapsed": false
   }
  },
  {
   "cell_type": "code",
   "execution_count": null,
   "outputs": [],
   "source": [],
   "metadata": {
    "collapsed": false
   }
  }
 ],
 "metadata": {
  "kernelspec": {
   "display_name": "Python 3",
   "language": "python",
   "name": "python3"
  },
  "language_info": {
   "codemirror_mode": {
    "name": "ipython",
    "version": 2
   },
   "file_extension": ".py",
   "mimetype": "text/x-python",
   "name": "python",
   "nbconvert_exporter": "python",
   "pygments_lexer": "ipython2",
   "version": "2.7.6"
  }
 },
 "nbformat": 4,
 "nbformat_minor": 0
}
